{
 "cells": [
  {
   "cell_type": "markdown",
   "id": "a9ca2893",
   "metadata": {},
   "source": [
    "# Session 1.1: Python Object Identity, Interning, and Headers\n",
    "This notebook dives deep into how Python manages object identity, memory, and performance-critical behaviors."
   ]
  },
  {
   "cell_type": "markdown",
   "id": "a1247160",
   "metadata": {},
   "source": [
    "## 1. `id()` vs `is` vs `==`\n",
    "In Python:\n",
    "- `==` checks for value equality.\n",
    "- `is` checks for object identity (i.e., same memory location).\n",
    "- `id()` returns the unique identity (memory address) of an object.\n",
    "\n",
    "Let's demonstrate with simple examples:"
   ]
  },
  {
   "cell_type": "code",
   "execution_count": null,
   "id": "0eab0aca",
   "metadata": {},
   "outputs": [],
   "source": [
    "a = 256\n",
    "b = 256\n",
    "print(\"a is b:\", a is b)       # True because of integer interning\n",
    "print(\"id(a):\", id(a), \"id(b):\", id(b))\n",
    "\n",
    "x = [1, 2]\n",
    "y = [1, 2]\n",
    "print(\"x == y:\", x == y)       # True: value equality\n",
    "print(\"x is y:\", x is y)       # False: different objects\n",
    "print(\"id(x):\", id(x), \"id(y):\", id(y))"
   ]
  },
  {
   "cell_type": "markdown",
   "id": "41a3e80e",
   "metadata": {},
   "source": [
    "## 2. Interning of Small Integers and Strings\n",
    "Python automatically interns:\n",
    "- Small integers (typically from -5 to 256)\n",
    "- Some short strings used as identifiers\n",
    "\n",
    "Manual interning can be done using `sys.intern()` to save memory or speed up dictionary lookups."
   ]
  },
  {
   "cell_type": "code",
   "execution_count": null,
   "id": "b7ff2f72",
   "metadata": {},
   "outputs": [],
   "source": [
    "import sys\n",
    "\n",
    "s1 = sys.intern('long_string_example_that_repeats')\n",
    "s2 = sys.intern('long_string_example_that_repeats')\n",
    "print(\"s1 is s2:\", s1 is s2)  # Interning ensures identity match\n",
    "\n",
    "# Without interning\n",
    "s3 = 'long_string_example_that_repeats'\n",
    "s4 = 'long_string_example_that_repeats'\n",
    "print(\"s3 is s4:\", s3 is s4)  # May be True or False depending on interning behavior"
   ]
  },
  {
   "cell_type": "markdown",
   "id": "0a657d2a",
   "metadata": {},
   "source": [
    "## 3. Object Headers and Memory Layout\n",
    "All Python objects carry metadata: reference count, type pointer, etc. The `sys.getsizeof()` function returns the size of the object in bytes (not counting referenced contents for containers)."
   ]
  },
  {
   "cell_type": "code",
   "execution_count": null,
   "id": "cd28e66e",
   "metadata": {},
   "outputs": [],
   "source": [
    "import sys\n",
    "\n",
    "print(\"Size of int(5):\", sys.getsizeof(5))\n",
    "print(\"Size of list []:\", sys.getsizeof([]))\n",
    "print(\"Size of dict {}:\", sys.getsizeof({}))\n",
    "print(\"Size of 'a':\", sys.getsizeof('a'))"
   ]
  },
  {
   "cell_type": "markdown",
   "id": "0916c4e0",
   "metadata": {},
   "source": [
    "## 4. Performance Implications\n",
    "- Using `is` is faster than `==` for strings if interning is used.\n",
    "- Interning is especially helpful in dictionary-heavy or loop-intensive code.\n",
    "- Object creation has memory and GC overhead—reuse when possible."
   ]
  },
  {
   "cell_type": "code",
   "execution_count": null,
   "id": "9682924d",
   "metadata": {},
   "outputs": [],
   "source": [
    "import timeit\n",
    "\n",
    "print(\"Time using 'is':\", timeit.timeit('\"hello\" is \"hello\"', number=1_000_000))\n",
    "print(\"Time using '==':\", timeit.timeit('\"hello\" == \"hello\"', number=1_000_000))"
   ]
  },
  {
   "cell_type": "markdown",
   "id": "b1a8d52e",
   "metadata": {},
   "source": [
    "## Challenge: Optimize Dictionary Lookup with Interning\n",
    "Given many repeated string keys in a loop-heavy dictionary lookup:\n",
    "- Profile with and without `sys.intern()`.\n",
    "- Observe performance and memory impact."
   ]
  },
  {
   "cell_type": "code",
   "execution_count": null,
   "id": "5603ce23",
   "metadata": {},
   "outputs": [],
   "source": [
    "import random\n",
    "import string\n",
    "import time\n",
    "import sys\n",
    "\n",
    "# Generate 10000 repeated keys\n",
    "keys = ['user_' + random.choice(string.ascii_letters) for _ in range(10000)]\n",
    "data = {sys.intern(k): i for i, k in enumerate(keys)}  # Intern keys\n",
    "\n",
    "start = time.time()\n",
    "for k in keys:\n",
    "    _ = data[sys.intern(k)]  # Intern during lookup\n",
    "print(\"Time with interning:\", time.time() - start)\n",
    "\n",
    "# Now try without interning\n",
    "data2 = {k: i for i, k in enumerate(keys)}  # No interning\n",
    "\n",
    "start = time.time()\n",
    "for k in keys:\n",
    "    _ = data2[k]\n",
    "print(\"Time without interning:\", time.time() - start)"
   ]
  },
  {
   "cell_type": "markdown",
   "id": "a232e6b8",
   "metadata": {},
   "source": [
    "### Summary\n",
    "- Use `is` for identity, `==` for value.\n",
    "- Intern small strings or repeated keys for performance.\n",
    "- Know what `sys.getsizeof()` includes—and what it does not.\n",
    "- Avoid excessive object creation in tight loops.\n",
    "\n",
    "Up next: Exploring the Python bytecode and how it really runs your code."
   ]
  }
 ],
 "metadata": {},
 "nbformat": 4,
 "nbformat_minor": 5
}