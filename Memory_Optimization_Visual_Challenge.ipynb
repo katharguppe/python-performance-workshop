{
 "cells": [
  {
   "cell_type": "markdown",
   "id": "8443b4ee",
   "metadata": {},
   "source": [
    "# 🧠 Memory Optimization Challenge: Visual Diagnostics with objgraph and tracemalloc"
   ]
  },
  {
   "cell_type": "markdown",
   "id": "c91ecac6",
   "metadata": {},
   "source": [
    "\n",
    "In this notebook, you'll build a memory-efficient registry of 100,000 entries using `__slots__`, measure its memory footprint, and visualize the memory graph using `objgraph`.\n",
    "\n",
    "We will use:\n",
    "- `__slots__` to optimize memory\n",
    "- `tracemalloc` for memory snapshot\n",
    "- `objgraph` to visualize references\n"
   ]
  },
  {
   "cell_type": "code",
   "execution_count": null,
   "id": "9bd02d9d",
   "metadata": {},
   "outputs": [],
   "source": [
    "\n",
    "import sys\n",
    "import tracemalloc\n",
    "import objgraph\n",
    "import time\n",
    "import random\n",
    "from datetime import datetime\n"
   ]
  },
  {
   "cell_type": "markdown",
   "id": "bb04f1fd",
   "metadata": {},
   "source": [
    "## 🧱 Define the optimized Entry class"
   ]
  },
  {
   "cell_type": "code",
   "execution_count": null,
   "id": "c124bdbc",
   "metadata": {},
   "outputs": [],
   "source": [
    "\n",
    "class Entry:\n",
    "    __slots__ = ['id', 'name', 'timestamp']\n",
    "    def __init__(self, id_, name, timestamp):\n",
    "        self.id = id_\n",
    "        self.name = name\n",
    "        self.timestamp = timestamp\n"
   ]
  },
  {
   "cell_type": "markdown",
   "id": "161ea5b8",
   "metadata": {},
   "source": [
    "## 🏗️ Generate the Registry"
   ]
  },
  {
   "cell_type": "code",
   "execution_count": null,
   "id": "a5941b59",
   "metadata": {},
   "outputs": [],
   "source": [
    "\n",
    "registry = []\n",
    "\n",
    "def generate_name():\n",
    "    return ''.join(random.choices('abcdefghijklmnopqrstuvwxyz', k=8))\n",
    "\n",
    "tracemalloc.start()\n",
    "\n",
    "start = time.time()\n",
    "for i in range(100000):\n",
    "    entry = Entry(i, generate_name(), int(time.time()))\n",
    "    registry.append(entry)\n",
    "end = time.time()\n",
    "\n",
    "print(f\"Registry populated in {end - start:.2f} seconds.\")\n"
   ]
  },
  {
   "cell_type": "markdown",
   "id": "5067505a",
   "metadata": {},
   "source": [
    "## 📊 Measure Total Memory Used"
   ]
  },
  {
   "cell_type": "code",
   "execution_count": null,
   "id": "1dda9380",
   "metadata": {},
   "outputs": [],
   "source": [
    "\n",
    "snapshot = tracemalloc.take_snapshot()\n",
    "top_stats = snapshot.statistics('filename')\n",
    "\n",
    "total_mem = sum(stat.size for stat in top_stats)\n",
    "print(f\"Total memory used (tracemalloc): {total_mem / 1024:.2f} KB\")\n",
    "\n",
    "# Show top contributors\n",
    "print(\"\\nTop memory contributors:\")\n",
    "for stat in top_stats[:5]:\n",
    "    print(stat)\n"
   ]
  },
  {
   "cell_type": "markdown",
   "id": "87c03cc5",
   "metadata": {},
   "source": [
    "## 🔍 Visualize Back References with `objgraph`\n",
    "*(this will create a PNG file)*"
   ]
  },
  {
   "cell_type": "code",
   "execution_count": null,
   "id": "064e8b8a",
   "metadata": {},
   "outputs": [],
   "source": [
    "\n",
    "# Note: requires Graphviz installed on your system\n",
    "objgraph.show_backrefs([registry[0]], max_depth=2, filename='backrefs_registry.png')\n"
   ]
  },
  {
   "cell_type": "markdown",
   "id": "a2842382",
   "metadata": {},
   "source": [
    "## 📈 Most Common Types in Memory"
   ]
  },
  {
   "cell_type": "code",
   "execution_count": null,
   "id": "6f84eeb7",
   "metadata": {},
   "outputs": [],
   "source": [
    "\n",
    "objgraph.show_most_common_types(limit=10)\n"
   ]
  }
 ],
 "metadata": {},
 "nbformat": 4,
 "nbformat_minor": 5
}