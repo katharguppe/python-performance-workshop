{
 "cells": [
  {
   "cell_type": "markdown",
   "id": "4cc3e0b1",
   "metadata": {},
   "source": [
    "# ⚙️ Session 2 — CPython Bytecode & Execution Model (Deep Dive)"
   ]
  },
  {
   "cell_type": "markdown",
   "id": "8d0554f8",
   "metadata": {},
   "source": [
    "This notebook analyses CPython’s wordcode, evaluation loop, frame objects, and inline‑cache specialization.\n",
    "\n",
    "We’ll end with building a bytecode visualiser that tracks live stack depth."
   ]
  },
  {
   "cell_type": "markdown",
   "id": "d3297031",
   "metadata": {},
   "source": [
    "## Stack‑Machine Architecture"
   ]
  },
  {
   "cell_type": "code",
   "execution_count": null,
   "id": "7cb32a61",
   "metadata": {},
   "outputs": [],
   "source": [
    "import dis, sys\n",
    "def sample(a,b):\n",
    "    return (a+1)*b\n",
    "print(dis.code_info(sample))\n",
    "dis.dis(sample)\n"
   ]
  },
  {
   "cell_type": "markdown",
   "id": "a5c16503",
   "metadata": {},
   "source": [
    "## Frame Object Internals"
   ]
  },
  {
   "cell_type": "code",
   "execution_count": null,
   "id": "e1bc92dd",
   "metadata": {},
   "outputs": [],
   "source": [
    "import inspect\n",
    "def inner():\n",
    "    f = inspect.currentframe()\n",
    "    print(\"Bytecode offset:\", f.f_lasti)\n",
    "    print(\"Locals:\", f.f_locals)\n",
    "inner()\n"
   ]
  },
  {
   "cell_type": "markdown",
   "id": "1a325d2f",
   "metadata": {},
   "source": [
    "## Challenge: Build Bytecode Visualiser"
   ]
  },
  {
   "cell_type": "code",
   "execution_count": null,
   "id": "53ff9e11",
   "metadata": {},
   "outputs": [],
   "source": [
    "import dis\n",
    "def viz(fn):\n",
    "    depth=0; maxd=0\n",
    "    for ins in dis.Bytecode(fn):\n",
    "        eff = dis.stack_effect(ins.opcode, ins.arg, jump=False)\n",
    "        depth += eff\n",
    "        maxd = max(maxd, depth)\n",
    "        print(f\"{ins.offset:3} {ins.opname:<20} depth→ {depth}\")\n",
    "    print(\"max depth:\", maxd)\n"
   ]
  }
 ],
 "metadata": {},
 "nbformat": 4,
 "nbformat_minor": 5
}
