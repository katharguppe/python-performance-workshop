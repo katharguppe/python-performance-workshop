{
  "cells": [
    {
      "cell_type": "markdown",
      "id": "a9ca2893",
      "metadata": {
        "id": "a9ca2893"
      },
      "source": [
        "# Session 1.1: Python Object Identity, Interning, and Headers\n",
        "This notebook dives deep into how Python manages object identity, memory, and performance-critical behaviors."
      ]
    },
    {
      "cell_type": "markdown",
      "id": "a1247160",
      "metadata": {
        "id": "a1247160"
      },
      "source": [
        "## 1. `id()` vs `is` vs `==`\n",
        "In Python:\n",
        "- `==` checks for value equality.\n",
        "- `is` checks for object identity (i.e., same memory location).\n",
        "- `id()` returns the unique identity (memory address) of an object.\n",
        "\n",
        "Let's demonstrate with simple examples:"
      ]
    },
    {
      "cell_type": "code",
      "execution_count": 2,
      "id": "0eab0aca",
      "metadata": {
        "colab": {
          "base_uri": "https://localhost:8080/"
        },
        "id": "0eab0aca",
        "outputId": "a7f051ab-ceca-4cf1-f8dc-f1a6c763c196"
      },
      "outputs": [
        {
          "output_type": "stream",
          "name": "stdout",
          "text": [
            "a is b: True\n",
            "id(a): 10759016 id(b): 10759016\n",
            "c is d: False\n",
            "id(c): 133823873100848 id(d): 133823873101072\n",
            "a is b: False\n",
            "x == y: True\n",
            "x is y: False\n",
            "id(x): 133823873426624 id(y): 133823873418304\n",
            "id if a is 10759016\n",
            "id if a is 10758984\n"
          ]
        }
      ],
      "source": [
        "a = 256\n",
        "b = 256\n",
        "c = 1000\n",
        "d = 1000\n",
        "print(\"a is b:\", a is b)       # True because of integer interning\n",
        "print(\"id(a):\", id(a), \"id(b):\", id(b))\n",
        "print(\"c is d:\", c is d)       # False because of different objects\n",
        "print(\"id(c):\", id(c), \"id(d):\", id(d))\n",
        "b = 200\n",
        "print(\"a is b:\", a is b)\n",
        "x = [1, 2]\n",
        "y = [1, 2]\n",
        "print(\"x == y:\", x == y)       # True: value equality\n",
        "print(\"x is y:\", x is y)       # False: different objects\n",
        "print(\"id(x):\", id(x), \"id(y):\", id(y))\n",
        "# Lets see if a an  integer defined previosuly immutable\n",
        "print(\"id if a is\", id(a))\n",
        "# Let change the value of a to 255 and see what happens\n",
        "a = 255\n",
        "print(\"id if a is\", id(a))"
      ]
    },
    {
      "cell_type": "markdown",
      "id": "41a3e80e",
      "metadata": {
        "id": "41a3e80e"
      },
      "source": [
        "## 2. Interning of Small Integers and Strings\n",
        "Python automatically interns:\n",
        "- Small integers (typically from -5 to 256)\n",
        "- Some short strings used as identifiers\n",
        "\n",
        "Manual interning can be done using `sys.intern()` to save memory or speed up dictionary lookups."
      ]
    },
    {
      "cell_type": "code",
      "source": [
        "# prompt: Lets see the rationale of python making objects like  an int variable immutable with an example\n",
        "\n",
        "# The output shows that the id of 'a' changes when you reassign it a different value.\n",
        "# This demonstrates that integers in Python are immutable.  When you do `a = 255`,\n",
        "# you are not modifying the original integer object representing 256. Instead, you are\n",
        "# creating a *new* integer object with the value 255 and assigning the variable 'a'\n",
        "# to point to this new object.  The old object (256) remains unchanged.\n",
        "\n",
        "# In other words:  you cannot change the value of an integer object itself.  You\n",
        "# can only reassign the variable to point to a *different* integer object with\n",
        "# a new value.  This is the core principle of immutability in Python.\n",
        "a = 256\n",
        "print(\"id if a is\", id(a))\n",
        "a = 255 #  This creates a NEW integer object.  'a' now points to this new object.\n",
        "print(\"id if a is\", id(a))\n",
        "\n",
        "# Compare with a mutable object:\n",
        "x = [1, 2]\n",
        "print(\"id of x:\", id(x))\n",
        "x.append(3)  # This modifies the original list object in place.\n",
        "print(\"id of x:\", id(x)) # id remains the same\n"
      ],
      "metadata": {
        "id": "7Xa-ZgZ4alme"
      },
      "id": "7Xa-ZgZ4alme",
      "execution_count": null,
      "outputs": []
    },
    {
      "cell_type": "code",
      "source": [
        "# There is sound logic in why variables where made immutable\n",
        "# === 1. Thread Safety ===\n",
        "# Immutable objects are inherently thread-safe because their values cannot change once created.\n",
        "# This eliminates the risk of race conditions when multiple threads access the same object.\n",
        "\n",
        "import threading\n",
        "\n",
        "# Shared variable\n",
        "shared_value = 42\n",
        "lock = threading.Lock()  # Synchronization mechanism\n",
        "\n",
        "def modify_value():\n",
        "    global shared_value\n",
        "    with lock:  # Acquire the lock before modifying shared_value\n",
        "        # Read the current value of shared_value\n",
        "        current_value = shared_value\n",
        "        # Compute the new value\n",
        "        new_value = current_value + 1\n",
        "        # Reassign shared_value to the new value\n",
        "        shared_value = new_value\n",
        "        print(f\"Thread {threading.current_thread().name}: shared_value = {shared_value}\")\n",
        "\n",
        "# Create two threads\n",
        "thread1 = threading.Thread(target=modify_value, name=\"Thread-1\")\n",
        "thread2 = threading.Thread(target=modify_value, name=\"Thread-2\")\n",
        "\n",
        "thread1.start()\n",
        "thread2.start()\n",
        "thread1.join()\n",
        "thread2.join()\n",
        "\n",
        "\n",
        "# === 2. Hashability ===\n",
        "# Immutable objects can be used as keys in dictionaries or elements in sets because their hash value remains constant.\n",
        "# Mutable objects, like lists, cannot be hashed because their contents can change.\n",
        "\n",
        "# Immutable object (can be used as a dictionary key)\n",
        "immutable_key = \"hello\"\n",
        "my_dict = {immutable_key: \"world\"}\n",
        "print(f\"Dictionary with immutable key: {my_dict}\")  # Output: {'hello': 'world'}\n",
        "\n",
        "# Mutable object (cannot be used as a dictionary key)\n",
        "mutable_key = [1, 2, 3]\n",
        "try:\n",
        "    my_dict[mutable_key] = \"error\"\n",
        "except TypeError as e:\n",
        "    print(f\"Error: {e}\")  # Output: unhashable type: 'list'\n",
        "\n",
        "# Example of hashability with tuples (immutable) vs. lists (mutable)\n",
        "immutable_tuple = (1, 2, 3)\n",
        "mutable_list = [1, 2, 3]\n",
        "\n",
        "h1 = hash(immutable_tuple)  # Works fine (tuples are immutable)\n",
        "#h2 = hash(mutable_list)  # Raises TypeError (lists are mutable)\n",
        "print(str(h1))\n",
        "try:\n",
        "    hash(mutable_list)  # Raises TypeError\n",
        "except TypeError as e:\n",
        "    print(f\"Error: {e}\")  # Output: unhashable type: 'list'\n",
        "\n",
        "\n",
        "# === 3. Predictability ===\n",
        "# Immutable objects ensure that their value will not change unexpectedly, making programs easier to reason about.\n",
        "\n",
        "# Immutable object (predictable behavior)\n",
        "a = 5\n",
        "b = a\n",
        "a += 1  # Creates a new integer object; `b` remains unchanged\n",
        "print(f\"a = {a}, b = {b}\")  # Output: a = 6, b = 5\n",
        "\n",
        "# Mutable object (unpredictable behavior)\n",
        "my_list = [1, 2, 3]\n",
        "another_list = my_list\n",
        "my_list.append(4)  # Modifies the original list; `another_list` reflects the change\n",
        "print(f\"my_list = {my_list}, another_list = {another_list}\")  # Output: [1, 2, 3, 4], [1, 2, 3, 4]\n",
        "\n",
        "\n",
        "# === 4. Memory Efficiency ===\n",
        "# Immutability allows Python to reuse objects in memory through techniques like interning and object pooling.\n",
        "\n",
        "# Interned integers (memory-efficient)\n",
        "a = 42\n",
        "b = 42\n",
        "print(f\"a is b: {a is b}\")  # Output: True (same object in memory)\n",
        "\n",
        "# Non-interned integers (separate objects)\n",
        "c = 257\n",
        "d = 257\n",
        "print(f\"c is d: {c is d}\")  # Output: False (different objects in memory)\n",
        "\n",
        "\n",
        "# === 5. Functional Programming ===\n",
        "# Immutability aligns with functional programming principles, where functions avoid side effects and work with pure data.\n",
        "\n",
        "# Pure function (no side effects)\n",
        "def add_one(x):\n",
        "    return x + 1\n",
        "\n",
        "a = 5\n",
        "b = add_one(a)\n",
        "print(f\"a = {a}, b = {b}\")  # Output: a = 5, b = 6 (a remains unchanged)\n",
        "\n",
        "# Impure function (side effects)\n",
        "def append_to_list(lst, value):\n",
        "    lst.append(value)\n",
        "\n",
        "my_list = [1, 2, 3]\n",
        "append_to_list(my_list, 4)\n",
        "print(f\"my_list = {my_list}\")  # Output: [1, 2, 3, 4] (original list is modified)\n",
        "\n",
        "\n",
        "# === 6. Simplified Semantics ===\n",
        "# Immutability simplifies operations like copying and comparing objects.\n",
        "\n",
        "# Immutable object (simple semantics)\n",
        "a = \"hello\"\n",
        "b = \"hello\"\n",
        "print(f\"a == b: {a == b}\")  # Output: True (values are equal)\n",
        "print(f\"a is b: {a is b}\")  # Output: True (same object in memory)\n",
        "\n",
        "# Mutable object (complex semantics)\n",
        "my_list = [1, 2, 3]\n",
        "another_list = my_list[:]  # Shallow copy\n",
        "print(f\"my_list == another_list: {my_list == another_list}\")  # Output: True (values are equal)\n",
        "print(f\"my_list is another_list: {my_list is another_list}\")  # Output: False (different objects in memory)"
      ],
      "metadata": {
        "colab": {
          "base_uri": "https://localhost:8080/"
        },
        "id": "kQmMyexJcU4a",
        "outputId": "f7b98ace-a5c0-4485-cb12-3780c6228593"
      },
      "id": "kQmMyexJcU4a",
      "execution_count": 5,
      "outputs": [
        {
          "output_type": "stream",
          "name": "stdout",
          "text": [
            "Thread Thread-1: shared_value = 43\n",
            "Thread Thread-2: shared_value = 44\n",
            "Dictionary with immutable key: {'hello': 'world'}\n",
            "Error: unhashable type: 'list'\n",
            "529344067295497451\n",
            "Error: unhashable type: 'list'\n",
            "a = 6, b = 5\n",
            "my_list = [1, 2, 3, 4], another_list = [1, 2, 3, 4]\n",
            "a is b: True\n",
            "c is d: False\n",
            "a = 5, b = 6\n",
            "my_list = [1, 2, 3, 4]\n",
            "a == b: True\n",
            "a is b: True\n",
            "my_list == another_list: True\n",
            "my_list is another_list: False\n"
          ]
        }
      ]
    },
    {
      "cell_type": "code",
      "execution_count": null,
      "id": "b7ff2f72",
      "metadata": {
        "colab": {
          "base_uri": "https://localhost:8080/"
        },
        "id": "b7ff2f72",
        "outputId": "14b2c43a-efe9-4fda-9788-e4d82341ab01"
      },
      "outputs": [
        {
          "output_type": "stream",
          "name": "stdout",
          "text": [
            "s1 is s2: True\n",
            "s3 is s4: True\n"
          ]
        }
      ],
      "source": [
        "import sys\n",
        "\n",
        "s1 = sys.intern('long_string_example_that_repeats')\n",
        "s2 = sys.intern('long_string_example_that_repeats')\n",
        "print(\"s1 is s2:\", s1 is s2)  # Interning ensures identity match\n",
        "\n",
        "# Without interning\n",
        "s3 = 'long_string_example_that_repeats'\n",
        "s4 = 'long_string_example_that_repeats'\n",
        "print(\"s3 is s4:\", s3 is s4)  # May be True or False depending on interning behavior"
      ]
    },
    {
      "cell_type": "markdown",
      "id": "0a657d2a",
      "metadata": {
        "id": "0a657d2a"
      },
      "source": [
        "## 3. Object Headers and Memory Layout\n",
        "All Python objects carry metadata: reference count, type pointer, etc. The `sys.getsizeof()` function returns the size of the object in bytes (not counting referenced contents for containers)."
      ]
    },
    {
      "cell_type": "code",
      "execution_count": null,
      "id": "cd28e66e",
      "metadata": {
        "colab": {
          "base_uri": "https://localhost:8080/"
        },
        "id": "cd28e66e",
        "outputId": "c8b8b8e0-b3e2-436f-8fba-0180729695c4"
      },
      "outputs": [
        {
          "output_type": "stream",
          "name": "stdout",
          "text": [
            "Size of int(5): 28\n",
            "Size of list []: 56\n",
            "Size of dict {}: 64\n",
            "Size of 'a': 50\n"
          ]
        }
      ],
      "source": [
        "import sys\n",
        "\n",
        "print(\"Size of int(5):\", sys.getsizeof(5))\n",
        "print(\"Size of list []:\", sys.getsizeof([]))\n",
        "print(\"Size of dict {}:\", sys.getsizeof({}))\n",
        "print(\"Size of 'a':\", sys.getsizeof('a'))"
      ]
    },
    {
      "cell_type": "markdown",
      "id": "0916c4e0",
      "metadata": {
        "id": "0916c4e0"
      },
      "source": [
        "## 4. Performance Implications\n",
        "- Using `is` is faster than `==` for strings if interning is used.\n",
        "- Interning is especially helpful in dictionary-heavy or loop-intensive code.\n",
        "- Object creation has memory and GC overhead—reuse when possible."
      ]
    },
    {
      "cell_type": "code",
      "execution_count": null,
      "id": "9682924d",
      "metadata": {
        "id": "9682924d"
      },
      "outputs": [],
      "source": [
        "import timeit\n",
        "\n",
        "print(\"Time using 'is':\", timeit.timeit('\"hello\" is \"hello\"', number=1_000_000))\n",
        "print(\"Time using '==':\", timeit.timeit('\"hello\" == \"hello\"', number=1_000_000))"
      ]
    },
    {
      "cell_type": "markdown",
      "id": "b1a8d52e",
      "metadata": {
        "id": "b1a8d52e"
      },
      "source": [
        "## Challenge: Optimize Dictionary Lookup with Interning\n",
        "Given many repeated string keys in a loop-heavy dictionary lookup:\n",
        "- Profile with and without `sys.intern()`.\n",
        "- Observe performance and memory impact."
      ]
    },
    {
      "cell_type": "code",
      "execution_count": null,
      "id": "5603ce23",
      "metadata": {
        "id": "5603ce23"
      },
      "outputs": [],
      "source": [
        "import random\n",
        "import string\n",
        "import time\n",
        "import sys\n",
        "\n",
        "# Generate 10000 repeated keys\n",
        "keys = ['user_' + random.choice(string.ascii_letters) for _ in range(10000)]\n",
        "data = {sys.intern(k): i for i, k in enumerate(keys)}  # Intern keys\n",
        "\n",
        "start = time.time()\n",
        "for k in keys:\n",
        "    _ = data[sys.intern(k)]  # Intern during lookup\n",
        "print(\"Time with interning:\", time.time() - start)\n",
        "\n",
        "# Now try without interning\n",
        "data2 = {k: i for i, k in enumerate(keys)}  # No interning\n",
        "\n",
        "start = time.time()\n",
        "for k in keys:\n",
        "    _ = data2[k]\n",
        "print(\"Time without interning:\", time.time() - start)"
      ]
    },
    {
      "cell_type": "markdown",
      "id": "a232e6b8",
      "metadata": {
        "id": "a232e6b8"
      },
      "source": [
        "### Summary\n",
        "- Use `is` for identity, `==` for value.\n",
        "- Intern small strings or repeated keys for performance.\n",
        "- Know what `sys.getsizeof()` includes—and what it does not.\n",
        "- Avoid excessive object creation in tight loops.\n",
        "\n",
        "Up next: Exploring the Python bytecode and how it really runs your code."
      ]
    }
  ],
  "metadata": {
    "colab": {
      "provenance": []
    },
    "language_info": {
      "name": "python"
    },
    "kernelspec": {
      "name": "python3",
      "display_name": "Python 3"
    }
  },
  "nbformat": 4,
  "nbformat_minor": 5
}