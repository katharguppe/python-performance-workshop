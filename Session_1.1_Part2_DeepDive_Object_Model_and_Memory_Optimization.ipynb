{
 "cells": [
  {
   "cell_type": "markdown",
   "id": "be5beb9b",
   "metadata": {},
   "source": [
    "# 🔬 Deep Dive: Python Object Model & Memory Optimization\n",
    "This notebook provides a comprehensive exploration of Python's object internals, reference counting, memory layout, garbage collection, interning, and how to optimize memory using tools like `__slots__`, `weakref`, and diagnostics like `objgraph` and `tracemalloc`.\n",
    "\n",
    "⚠️ This notebook assumes you're comfortable with Python classes, memory models, and want to go deep into CPython behavior."
   ]
  },
  {
   "cell_type": "markdown",
   "id": "cc3ed6ee",
   "metadata": {},
   "source": [
    "## 1️⃣ Reference Counting & Garbage Collection\n",
    "Every object in CPython has a reference count. When it reaches zero, the object is deallocated."
   ]
  },
  {
   "cell_type": "code",
   "execution_count": null,
   "id": "d1b12856",
   "metadata": {},
   "outputs": [],
   "source": [
    "\n",
    "import sys\n",
    "import gc\n",
    "\n",
    "x = []\n",
    "y = x\n",
    "print(\"Reference count of x:\", sys.getrefcount(x))  # sys.getrefcount adds +1 itself\n",
    "\n",
    "# Create cyclic ref\n",
    "x.append(y)\n",
    "del x\n",
    "del y\n",
    "\n",
    "print(\"Before GC: Garbage count =\", gc.collect())  # Force collection\n"
   ]
  },
  {
   "cell_type": "markdown",
   "id": "013b869d",
   "metadata": {},
   "source": [
    "### 🔄 Generational Garbage Collection\n",
    "CPython uses 3 generations (0, 1, 2). Objects that survive longer move up."
   ]
  },
  {
   "cell_type": "code",
   "execution_count": null,
   "id": "92ed95ed",
   "metadata": {},
   "outputs": [],
   "source": [
    "\n",
    "for gen in range(3):\n",
    "    print(f\"Generation {gen} threshold:\", gc.get_threshold()[gen])\n",
    "    print(f\"Objects in gen {gen}:\", len(gc.get_objects()))\n"
   ]
  },
  {
   "cell_type": "markdown",
   "id": "ba1831c0",
   "metadata": {},
   "source": [
    "## 👻 Weak References and Object Lifetimes"
   ]
  },
  {
   "cell_type": "code",
   "execution_count": null,
   "id": "a80f900a",
   "metadata": {},
   "outputs": [],
   "source": [
    "\n",
    "import weakref\n",
    "\n",
    "class Data:\n",
    "    def __del__(self):\n",
    "        print(\"Data object deleted\")\n",
    "\n",
    "d = Data()\n",
    "r = weakref.ref(d)\n",
    "print(\"Weakref points to:\", r())\n",
    "\n",
    "del d\n",
    "print(\"Weakref after deletion:\", r())\n"
   ]
  },
  {
   "cell_type": "markdown",
   "id": "85a2c9b2",
   "metadata": {},
   "source": [
    "## 🔢 Small Integer and String Interning\n",
    "Python caches small integers in [-5, 256] and interns certain strings."
   ]
  },
  {
   "cell_type": "code",
   "execution_count": null,
   "id": "5abab4e3",
   "metadata": {},
   "outputs": [],
   "source": [
    "\n",
    "import sys\n",
    "a = 100\n",
    "b = 100\n",
    "print(\"a is b:\", a is b)\n",
    "\n",
    "x = 1000\n",
    "y = 1000\n",
    "print(\"x is y:\", x is y)\n",
    "\n",
    "s1 = sys.intern(\"very_common_string\")\n",
    "s2 = sys.intern(\"very_common_string\")\n",
    "print(\"s1 is s2 (interned):\", s1 is s2)\n"
   ]
  },
  {
   "cell_type": "markdown",
   "id": "7fa523f7",
   "metadata": {},
   "source": [
    "## 🧱 Object Headers and Memory Layout"
   ]
  },
  {
   "cell_type": "code",
   "execution_count": null,
   "id": "cffc425d",
   "metadata": {},
   "outputs": [],
   "source": [
    "\n",
    "import sys\n",
    "\n",
    "class Demo:\n",
    "    def __init__(self):\n",
    "        self.a = 1\n",
    "        self.b = 2\n",
    "\n",
    "obj = Demo()\n",
    "print(\"Size with __dict__:\", sys.getsizeof(obj))\n",
    "print(\"Attributes:\", obj.__dict__)\n"
   ]
  },
  {
   "cell_type": "markdown",
   "id": "ff529d31",
   "metadata": {},
   "source": [
    "## 🧳 Using `__slots__` for Memory Efficiency\n",
    "Slots eliminate per-instance `__dict__` and save memory when many objects are created."
   ]
  },
  {
   "cell_type": "code",
   "execution_count": null,
   "id": "5c4ba821",
   "metadata": {},
   "outputs": [],
   "source": [
    "\n",
    "class Slotted:\n",
    "    __slots__ = ['a', 'b']\n",
    "    def __init__(self):\n",
    "        self.a = 1\n",
    "        self.b = 2\n",
    "\n",
    "class Normal:\n",
    "    def __init__(self):\n",
    "        self.a = 1\n",
    "        self.b = 2\n",
    "\n",
    "import sys\n",
    "\n",
    "normal_objs = [Normal() for _ in range(10000)]\n",
    "slotted_objs = [Slotted() for _ in range(10000)]\n",
    "\n",
    "print(\"Normal one size:\", sys.getsizeof(normal_objs[0]))\n",
    "print(\"Slotted one size:\", sys.getsizeof(slotted_objs[0]))\n"
   ]
  },
  {
   "cell_type": "markdown",
   "id": "a51b3107",
   "metadata": {},
   "source": [
    "## 🧠 Memory Diagnostics: `tracemalloc` and `objgraph`\n",
    "Use these tools to detect memory leaks and object allocation patterns."
   ]
  },
  {
   "cell_type": "code",
   "execution_count": null,
   "id": "4bcadf1d",
   "metadata": {},
   "outputs": [],
   "source": [
    "\n",
    "import tracemalloc\n",
    "\n",
    "tracemalloc.start()\n",
    "\n",
    "objs = [Normal() for _ in range(50000)]\n",
    "snapshot = tracemalloc.take_snapshot()\n",
    "top_stats = snapshot.statistics('lineno')\n",
    "\n",
    "print(\"Top 5 memory lines:\")\n",
    "for stat in top_stats[:5]:\n",
    "    print(stat)\n"
   ]
  },
  {
   "cell_type": "markdown",
   "id": "4f2801fa",
   "metadata": {},
   "source": [
    "### 🔍 Visualizing with `objgraph`\n",
    "(You must install `objgraph` via pip if missing)"
   ]
  },
  {
   "cell_type": "code",
   "execution_count": null,
   "id": "9715d99a",
   "metadata": {},
   "outputs": [],
   "source": [
    "\n",
    "# !pip install objgraph\n",
    "import objgraph\n",
    "\n",
    "class Tree:\n",
    "    def __init__(self, child=None):\n",
    "        self.child = child\n",
    "\n",
    "t = Tree(Tree(Tree()))\n",
    "objgraph.show_refs([t], filename='tree_refs.png')  # generates a PNG visualization\n"
   ]
  },
  {
   "cell_type": "markdown",
   "id": "bc95c99a",
   "metadata": {},
   "source": [
    "## ✅ Best Practices Recap"
   ]
  },
  {
   "cell_type": "markdown",
   "id": "6c727e3e",
   "metadata": {},
   "source": [
    "\n",
    "- Use `__slots__` to reduce memory for frequently created classes\n",
    "- Monitor allocations with `tracemalloc` during development\n",
    "- Use `gc.collect()` sparingly to clean cyclic structures\n",
    "- Avoid unnecessary references to reduce GC workload\n",
    "- Use `weakref` for caches, graphs, plugins to avoid memory leaks\n"
   ]
  }
 ],
 "metadata": {},
 "nbformat": 4,
 "nbformat_minor": 5
}