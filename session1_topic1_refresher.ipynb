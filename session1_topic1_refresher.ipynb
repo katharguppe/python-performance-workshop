{
 "cells": [
  {
   "cell_type": "markdown",
   "id": "f4d55040",
   "metadata": {},
   "source": [
    "# Session 1 - Topic 1: Python's Stack Machine Architecture (Enhanced)\n",
    "\n",
    "In this enhanced notebook, we explore Python’s stack machine and *instrument* two examples to show not only disassembly but also **stack depth evolution** and **performance timing** for deeper understanding."
   ]
  },
  {
   "cell_type": "markdown",
   "id": "f2f7bbea",
   "metadata": {},
   "source": [
    "## 1. Quick Refresher: Stack Machine Basics\n",
    "- Stack Machine = operates using a LIFO stack.\n",
    "- Python (CPython) compiles code into **bytecode** operating on a **stack**.\n",
    "- Bytecode Instructions manipulate this stack directly."
   ]
  },
  {
   "cell_type": "markdown",
   "id": "dd35a8c2",
   "metadata": {},
   "source": [
    "## 2. Code Example 1: Local vs Global Variable Access"
   ]
  },
  {
   "cell_type": "code",
   "execution_count": null,
   "id": "87614d98",
   "metadata": {},
   "outputs": [],
   "source": [
    "import dis\n",
    "import time\n",
    "\n",
    "GLOBAL_VAR = 10\n",
    "\n",
    "def use_local():\n",
    "    local_var = GLOBAL_VAR\n",
    "    for _ in range(1000000):\n",
    "        result = local_var * 2\n",
    "    return result\n",
    "\n",
    "def use_global():\n",
    "    for _ in range(1000000):\n",
    "        result = GLOBAL_VAR * 2\n",
    "    return result\n",
    "\n",
    "# Timing\n",
    "start = time.time()\n",
    "use_local()\n",
    "local_time = time.time() - start\n",
    "\n",
    "start = time.time()\n",
    "use_global()\n",
    "global_time = time.time() - start\n",
    "\n",
    "print(f\"use_local: {local_time:.4f} sec\")\n",
    "print(f\"use_global: {global_time:.4f} sec\")\n",
    "\n",
    "# Disassembly and Stack Depth Analysis\n",
    "def analyze_function(func):\n",
    "    print(f\"\\nDisassembly and Stack Depth for {func.__name__}:\")\n",
    "    depth = 0\n",
    "    max_depth = 0\n",
    "    for instr in dis.Bytecode(func):\n",
    "        effect = dis.stack_effect(instr.opcode, instr.arg)\n",
    "        depth += effect\n",
    "        max_depth = max(max_depth, depth)\n",
    "        print(f\"{instr.opname:<20} stack_effect={effect:+2} depth_now={depth:2}\")\n",
    "    print(f\"Maximum stack depth during {func.__name__}: {max_depth}\")\n",
    "\n",
    "analyze_function(use_local)\n",
    "analyze_function(use_global)"
   ]
  },
  {
   "cell_type": "markdown",
   "id": "8d880826",
   "metadata": {},
   "source": [
    "### Observations:\n",
    "- **Local Variables** (`LOAD_FAST`) are accessed quickly — simple stack operation.\n",
    "- **Global Variables** (`LOAD_GLOBAL`) involve a **dictionary lookup** at runtime, making them slower.\n",
    "- Stack depth also tends to be slightly higher for global accesses due to extra work."
   ]
  },
  {
   "cell_type": "markdown",
   "id": "c195210a",
   "metadata": {},
   "source": [
    "## 3. Code Example 2: List Comprehension vs For Loop"
   ]
  },
  {
   "cell_type": "code",
   "execution_count": null,
   "id": "cba03dd1",
   "metadata": {},
   "outputs": [],
   "source": [
    "def list_comp():\n",
    "    return [x * 2 for x in range(10)]\n",
    "\n",
    "def for_loop():\n",
    "    result = []\n",
    "    for x in range(10):\n",
    "        result.append(x * 2)\n",
    "    return result\n",
    "\n",
    "# Timing\n",
    "start = time.time()\n",
    "list_comp()\n",
    "list_time = time.time() - start\n",
    "\n",
    "start = time.time()\n",
    "for_loop()\n",
    "for_time = time.time() - start\n",
    "\n",
    "print(f\"list_comp: {list_time:.6f} sec\")\n",
    "print(f\"for_loop: {for_time:.6f} sec\")\n",
    "\n",
    "# Disassembly and Stack Depth Analysis\n",
    "analyze_function(list_comp)\n",
    "analyze_function(for_loop)"
   ]
  },
  {
   "cell_type": "markdown",
   "id": "52ed1a02",
   "metadata": {},
   "source": [
    "### Observations:\n",
    "- **List Comprehensions** are internally optimized — fewer instructions and shallower stack changes.\n",
    "- **For Loops** generate more bytecode, involving more stack operations per iteration.\n",
    "- Hence, list comprehensions are generally faster for simple transformations."
   ]
  },
  {
   "cell_type": "markdown",
   "id": "138b3fe2",
   "metadata": {},
   "source": [
    "## 4. Conclusion\n",
    "- Understanding **stack depth** alongside **disassembly** gives insights into why some constructs are faster.\n",
    "- Always balance between **clarity** and **performance**.\n",
    "- Deep dive like this is especially useful for tight loops or performance-critical paths."
   ]
  }
 ],
 "metadata": {},
 "nbformat": 4,
 "nbformat_minor": 5
}
