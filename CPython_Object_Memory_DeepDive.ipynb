{
 "cells": [
  {
   "cell_type": "markdown",
   "id": "cf86131a",
   "metadata": {},
   "source": [
    "# 🧬 CPython Source Deep Dive: Object Memory Internals"
   ]
  },
  {
   "cell_type": "markdown",
   "id": "0774bee0",
   "metadata": {},
   "source": [
    "\n",
    "This notebook walks through **CPython source code** segments relevant to:\n",
    "- Object header layout\n",
    "- Reference counting\n",
    "- Garbage collection\n",
    "- `__slots__` impact on memory\n",
    "\n",
    "We refer to CPython's official source files such as `Include/object.h`, `Include/cpython/object.h`, `Objects/typeobject.c`, and `Include/longobject.h`.\n",
    "\n",
    "---\n"
   ]
  },
  {
   "cell_type": "markdown",
   "id": "83b908ad",
   "metadata": {},
   "source": [
    "## 📦 CPython: `PyObject_HEAD` in `object.h`"
   ]
  },
  {
   "cell_type": "code",
   "execution_count": null,
   "id": "8a7e880c",
   "metadata": {},
   "outputs": [],
   "source": [
    "\n",
    "# CPython C Macro (Include/object.h)\n",
    "\n",
    "#define PyObject_HEAD                   \\\n",
    "    Py_ssize_t ob_refcnt;               \\\n",
    "    struct _typeobject *ob_type;\n",
    "\n",
    "# This is the base layout of *every* object in CPython.\n",
    "# - `ob_refcnt` tracks reference count\n",
    "# - `ob_type` points to the type object (e.g., <class 'int'>)\n"
   ]
  },
  {
   "cell_type": "markdown",
   "id": "aad2f04a",
   "metadata": {},
   "source": [
    "## 🧱 PyVarObject (for objects with variable size like lists, strings, etc.)"
   ]
  },
  {
   "cell_type": "code",
   "execution_count": null,
   "id": "9c43dbdc",
   "metadata": {},
   "outputs": [],
   "source": [
    "\n",
    "# CPython Macro (Include/object.h)\n",
    "\n",
    "#define PyVarObject_HEAD_INIT(type, size) \\\n",
    "    PyObject_HEAD \\\n",
    "    Py_ssize_t ob_size;\n",
    "\n",
    "# Used in lists, tuples, strings, etc.\n"
   ]
  },
  {
   "cell_type": "markdown",
   "id": "9aa8ce84",
   "metadata": {},
   "source": [
    "## 🔁 Reference Counting Macros in CPython"
   ]
  },
  {
   "cell_type": "code",
   "execution_count": null,
   "id": "d76b5ff7",
   "metadata": {},
   "outputs": [],
   "source": [
    "\n",
    "# Include/object.h\n",
    "\n",
    "#define Py_INCREF(op) ((op)->ob_refcnt++)\n",
    "#define Py_DECREF(op)                        \\\n",
    "    if (--(op)->ob_refcnt != 0)              \\\n",
    "        ;                                    \\\n",
    "    else                                     \\\n",
    "        _Py_Dealloc((PyObject *)(op))\n",
    "\n",
    "# Every time a reference is assigned, Py_INCREF is used\n",
    "# When objects go out of scope, Py_DECREF is used\n"
   ]
  },
  {
   "cell_type": "markdown",
   "id": "79971b61",
   "metadata": {},
   "source": [
    "## 🧳 `__slots__` in CPython: Avoiding __dict__"
   ]
  },
  {
   "cell_type": "code",
   "execution_count": null,
   "id": "ca2110a5",
   "metadata": {},
   "outputs": [],
   "source": [
    "\n",
    "# CPython's typeobject.c (simplified logic)\n",
    "\n",
    "if (type->tp_dictoffset == 0 && !type->tp_weaklistoffset) {\n",
    "    // __dict__ and __weakref__ are not created\n",
    "    // Memory savings!\n",
    "}\n",
    "\n",
    "# __slots__ affect type layout by preventing allocation of __dict__ and __weakref__\n"
   ]
  },
  {
   "cell_type": "markdown",
   "id": "ff80435f",
   "metadata": {},
   "source": [
    "## 🔍 Debugging Memory with CPython Hooks"
   ]
  },
  {
   "cell_type": "code",
   "execution_count": null,
   "id": "ab2bc245",
   "metadata": {},
   "outputs": [],
   "source": [
    "\n",
    "# Python's built-in debugging API (Python-level)\n",
    "\n",
    "import sys\n",
    "\n",
    "def track(obj):\n",
    "    print(f\"Type: {type(obj)}, Refcount: {sys.getrefcount(obj)}, Size: {sys.getsizeof(obj)}\")\n",
    "\n",
    "x = [1, 2, 3]\n",
    "track(x)\n"
   ]
  },
  {
   "cell_type": "markdown",
   "id": "acfcf9a4",
   "metadata": {},
   "source": [
    "## 🧭 CPython Source References"
   ]
  },
  {
   "cell_type": "markdown",
   "id": "73e03f7f",
   "metadata": {},
   "source": [
    "\n",
    "- [`Include/object.h`](https://github.com/python/cpython/blob/main/Include/object.h) – Core object macros  \n",
    "- [`Include/cpython/object.h`](https://github.com/python/cpython/blob/main/Include/cpython/object.h) – Refcount, internals  \n",
    "- [`Objects/typeobject.c`](https://github.com/python/cpython/blob/main/Objects/typeobject.c) – Type creation logic  \n",
    "- [`Include/longobject.h`](https://github.com/python/cpython/blob/main/Include/longobject.h) – Integer interning  \n",
    "- [`Modules/gcmodule.c`](https://github.com/python/cpython/blob/main/Modules/gcmodule.c) – GC system\n"
   ]
  }
 ],
 "metadata": {},
 "nbformat": 4,
 "nbformat_minor": 5
}