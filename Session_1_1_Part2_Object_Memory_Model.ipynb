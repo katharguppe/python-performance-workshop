{
  "cells": [
    {
      "cell_type": "markdown",
      "id": "2a4d19b0",
      "metadata": {
        "id": "2a4d19b0"
      },
      "source": [
        "# Session 1.1 (Part 2): Object Headers, Memory Model, and Optimization"
      ]
    },
    {
      "cell_type": "markdown",
      "id": "cd4208ac",
      "metadata": {
        "id": "cd4208ac"
      },
      "source": [
        "\n",
        "In this notebook, we will go beyond object identity and dive into how Python objects are represented in memory. We'll explore:\n",
        "- Reference counting and garbage collection\n",
        "- Weak references\n",
        "- Small integer caching and object reuse\n",
        "- Memory layout of objects and how to inspect them\n",
        "- The use of `__slots__` for memory optimization\n",
        "- Best practices to avoid over-allocation\n",
        "\n",
        "Each section includes step-by-step explanations, code, and commentary.\n"
      ]
    },
    {
      "cell_type": "markdown",
      "id": "1fcd9311",
      "metadata": {
        "id": "1fcd9311"
      },
      "source": [
        "## 🔁 Reference Counting and Garbage Collection"
      ]
    },
    {
      "cell_type": "markdown",
      "id": "dae30156",
      "metadata": {
        "id": "dae30156"
      },
      "source": [
        "\n",
        "Python uses reference counting to keep track of how many references point to an object. When the count drops to zero, the object is automatically deallocated. Python also has a cyclic garbage collector to deal with reference cycles.\n"
      ]
    },
    {
      "cell_type": "code",
      "execution_count": null,
      "id": "9376cd80",
      "metadata": {
        "id": "9376cd80",
        "outputId": "3e1f9faa-4cee-4b3e-d145-9467bf3c3d94",
        "colab": {
          "base_uri": "https://localhost:8080/"
        }
      },
      "outputs": [
        {
          "output_type": "stream",
          "name": "stdout",
          "text": [
            "Reference count for a: 3\n",
            "Garbage collector stats: {'collections': 280, 'collected': 2305, 'uncollectable': 0}\n"
          ]
        }
      ],
      "source": [
        "\n",
        "import sys\n",
        "import gc\n",
        "\n",
        "a = []\n",
        "b = a\n",
        "\n",
        "print(\"Reference count for a:\", sys.getrefcount(a))  # Usually +1 because of getrefcount's own argument\n",
        "\n",
        "# Create a circular reference\n",
        "a.append(b)\n",
        "\n",
        "# Delete both\n",
        "del a\n",
        "del b\n",
        "\n",
        "# Force garbage collection\n",
        "gc.collect()\n",
        "print(\"Garbage collector stats:\", gc.get_stats()[0])\n"
      ]
    },
    {
      "cell_type": "markdown",
      "id": "1bb6aa54",
      "metadata": {
        "id": "1bb6aa54"
      },
      "source": [
        "## 👻 Weak References"
      ]
    },
    {
      "cell_type": "markdown",
      "id": "202d0930",
      "metadata": {
        "id": "202d0930"
      },
      "source": [
        "\n",
        "Sometimes you want to reference an object without preventing it from being garbage collected. This is where `weakref` comes in.\n"
      ]
    },
    {
      "cell_type": "code",
      "execution_count": null,
      "id": "4f508d20",
      "metadata": {
        "id": "4f508d20"
      },
      "outputs": [],
      "source": [
        "\n",
        "import weakref\n",
        "\n",
        "class Demo:\n",
        "    pass\n",
        "\n",
        "obj = Demo()\n",
        "r = weakref.ref(obj)\n",
        "\n",
        "print(\"Original object:\", obj)\n",
        "print(\"Weak reference:\", r)\n",
        "print(\"Dereferenced weakref:\", r())\n",
        "\n",
        "# Delete strong reference\n",
        "del obj\n",
        "print(\"After deletion, weakref now returns:\", r())\n"
      ]
    },
    {
      "cell_type": "markdown",
      "id": "6bc15b8a",
      "metadata": {
        "id": "6bc15b8a"
      },
      "source": [
        "## 🔢 Small Integer Caching and Interning"
      ]
    },
    {
      "cell_type": "markdown",
      "id": "48dd821f",
      "metadata": {
        "id": "48dd821f"
      },
      "source": [
        "\n",
        "Python caches small integers in the range [-5, 256]. These are reused to save memory and speed up execution.\n"
      ]
    },
    {
      "cell_type": "code",
      "execution_count": null,
      "id": "cfd8b275",
      "metadata": {
        "id": "cfd8b275"
      },
      "outputs": [],
      "source": [
        "\n",
        "a = 100\n",
        "b = 100\n",
        "print(\"a is b (100):\", a is b)\n",
        "\n",
        "x = 1000\n",
        "y = 1000\n",
        "print(\"x is y (1000):\", x is y)  # Likely False, not cached\n",
        "\n",
        "print(\"id(a):\", id(a), \"id(b):\", id(b))\n",
        "print(\"id(x):\", id(x), \"id(y):\", id(y))\n"
      ]
    },
    {
      "cell_type": "markdown",
      "id": "daaabddd",
      "metadata": {
        "id": "daaabddd"
      },
      "source": [
        "## 📦 Memory Overhead: `sys.getsizeof` and `__slots__`"
      ]
    },
    {
      "cell_type": "markdown",
      "id": "0555d7a9",
      "metadata": {
        "id": "0555d7a9"
      },
      "source": [
        "\n",
        "Every Python object has overhead. You can inspect object size using `sys.getsizeof`.\n",
        "\n",
        "By default, classes allow dynamic attribute creation via `__dict__`. This adds memory overhead. You can reduce this by defining `__slots__`, which pre-declares fixed attributes and avoids `__dict__`.\n"
      ]
    },
    {
      "cell_type": "code",
      "execution_count": null,
      "id": "4b143c79",
      "metadata": {
        "id": "4b143c79"
      },
      "outputs": [],
      "source": [
        "\n",
        "import sys\n",
        "\n",
        "class Normal:\n",
        "    def __init__(self):\n",
        "        self.a = 1\n",
        "        self.b = 2\n",
        "\n",
        "class Slotted:\n",
        "    __slots__ = ('a', 'b')\n",
        "    def __init__(self):\n",
        "        self.a = 1\n",
        "        self.b = 2\n",
        "\n",
        "n = Normal()\n",
        "s = Slotted()\n",
        "\n",
        "print(\"Size of normal class:\", sys.getsizeof(n))\n",
        "print(\"Size of slotted class:\", sys.getsizeof(s))\n",
        "print(\"Normal class dict:\", n.__dict__)\n",
        "# The following would raise an AttributeError if uncommented\n",
        "# print(s.__dict__)\n"
      ]
    },
    {
      "cell_type": "markdown",
      "id": "0c6f93e8",
      "metadata": {
        "id": "0c6f93e8"
      },
      "source": [
        "## ✅ Best Practices"
      ]
    },
    {
      "cell_type": "markdown",
      "id": "3e8a4cbd",
      "metadata": {
        "id": "3e8a4cbd"
      },
      "source": [
        "\n",
        "1. Use `sys.getrefcount()` to debug reference cycles or leaks.\n",
        "2. Prefer `weakref` for caches or registries where objects can be collected.\n",
        "3. Understand Python's interning/caching to avoid identity traps.\n",
        "4. Use `__slots__` for classes with many instances to reduce memory.\n",
        "5. Avoid creating unnecessary references in tight loops or recursive calls.\n",
        "\n",
        "These practices help reduce memory overhead and improve scalability for large-scale applications.\n"
      ]
    },
    {
      "cell_type": "markdown",
      "id": "e2d7f035",
      "metadata": {
        "id": "e2d7f035"
      },
      "source": [
        "### 📌 Summary"
      ]
    },
    {
      "cell_type": "markdown",
      "id": "849d296d",
      "metadata": {
        "id": "849d296d"
      },
      "source": [
        "\n",
        "- Python objects have a header containing metadata like reference count and type.\n",
        "- Garbage collection helps clear cycles; `gc.collect()` forces it.\n",
        "- `weakref` allows referencing without extending lifetime.\n",
        "- Python reuses small ints and short strings for efficiency.\n",
        "- `__slots__` is a powerful way to reduce per-object memory footprint.\n",
        "\n",
        "By understanding these internals, you can write faster, more memory-efficient Python code.\n"
      ]
    },
    {
      "cell_type": "code",
      "source": [
        "#lets recap some stuff before we go hard core\n",
        "# Integer object\n",
        "x = 10\n",
        "print(type(x))  # Output: <class 'int'>\n",
        "\n",
        "# String object\n",
        "y = \"Hello\"\n",
        "print(type(y))  # Output: <class 'str'>\n",
        "\n",
        "# List object\n",
        "z = [1, 2, 3]\n",
        "print(type(z))  # Output: <class 'list'>\n",
        "\n",
        "# Function object\n",
        "def my_function():\n",
        "    pass\n",
        "\n",
        "print(type(my_function))  # Output: <class 'function'>\n",
        "\n",
        "# Class object\n",
        "class MyClass:\n",
        "    pass\n",
        "\n",
        "obj = MyClass()\n",
        "print(type(obj))  # Output: <class '__main__.MyClass'>\n",
        "print(type(None))  # Output: <class 'NoneType'>\n",
        "import math\n",
        "print(type(math))  # Output: <class 'module'>\n"
      ],
      "metadata": {
        "colab": {
          "base_uri": "https://localhost:8080/"
        },
        "id": "UA3VJFUGzGWA",
        "outputId": "ad62b65e-c1d1-48fc-a87b-e1a291cc7bf8"
      },
      "id": "UA3VJFUGzGWA",
      "execution_count": 1,
      "outputs": [
        {
          "output_type": "stream",
          "name": "stdout",
          "text": [
            "<class 'int'>\n",
            "<class 'str'>\n",
            "<class 'list'>\n",
            "<class 'function'>\n",
            "<class '__main__.MyClass'>\n",
            "<class 'NoneType'>\n",
            "<class 'module'>\n"
          ]
        }
      ]
    },
    {
      "cell_type": "code",
      "source": [
        "# we can force seperate objects\n",
        "a = int(\"257\")\n",
        "b = int(\"257\")\n",
        "\n",
        "print(a == b)  # True (values are equal)\n",
        "print(a is b)  # False (different objects in memory)\n",
        "\n",
        "a = \"hello\"\n",
        "b = \" \".join([\"hello\"])  # Dynamically created string\n",
        "\n",
        "print(a == b)  # True (values are equal)\n",
        "print(a is b)  # False (different objects in memory)\n",
        "\n",
        "a = 3.14\n",
        "b = 3.14\n",
        "\n",
        "print(a == b)  # True (values are equal)\n",
        "print(a is b)  # False (different objects in memory)"
      ],
      "metadata": {
        "colab": {
          "base_uri": "https://localhost:8080/"
        },
        "id": "PsfsEaV-zo0t",
        "outputId": "289baace-7f58-44a0-ce0b-4866fec547f2"
      },
      "id": "PsfsEaV-zo0t",
      "execution_count": 2,
      "outputs": [
        {
          "output_type": "stream",
          "name": "stdout",
          "text": [
            "True\n",
            "False\n",
            "True\n",
            "True\n",
            "True\n",
            "False\n"
          ]
        }
      ]
    }
  ],
  "metadata": {
    "colab": {
      "provenance": []
    },
    "language_info": {
      "name": "python"
    },
    "kernelspec": {
      "name": "python3",
      "display_name": "Python 3"
    }
  },
  "nbformat": 4,
  "nbformat_minor": 5
}