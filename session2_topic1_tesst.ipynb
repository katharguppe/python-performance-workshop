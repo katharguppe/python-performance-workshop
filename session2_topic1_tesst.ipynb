%%writefile stack_machine_explanation.ipynb
# -*- coding: utf-8 -*-
# ---
# jupyter:
#   jupytext:
#     formats: ipynb,py:light
#     text_representation:
#       extension: .py
#       format_name: light
#       format_version: '1.0'
#       jupytext_version: 1.28.2
#   kernelspec:
#     display_name: Python 3 (ipykernel)
#     language: python
#     name: python3
# ---

# # Python's Stack Machine Architecture: A Deep Dive
#
# This notebook explores Python's stack machine architecture, focusing on how Python bytecode is executed. We'll use the `dis` module to inspect bytecode and understand stack behavior.

# ## 1. What is a Stack Machine?
#
# * A stack machine is a type of computer architecture that uses a stack data structure to perform operations.
# * Unlike register-based machines (like your typical CPU), stack machines don't use registers for temporary storage. Instead, they manipulate data directly on a stack.
# * **Stack:** A stack is a Last-In, First-Out (LIFO) data structure. Think of a stack of plates: you add (push) a plate to the top, and you remove (pop) a plate from the top.
#
# ```
# +-------+  <- Top of Stack
# |  Data  |
# |  Data  |
# |  Data  |
# +-------+  <- Bottom of Stack
# ```
#
# ## 2. Python's Stack Machine
#
# * CPython, the most common Python implementation, uses a stack machine architecture for executing bytecode.
# * When your Python code is compiled, it's translated into bytecode, which consists of instructions that operate on a stack.
# * The CPython interpreter has an evaluation loop that processes these bytecode instructions.

# ## 3. Bytecode and Instructions
#
# * Python bytecode instructions are simple operations like:
#     * `LOAD_FAST`: Push a local variable onto the stack.
#     * `LOAD_CONST`: Push a constant value onto the stack.
#     * `BINARY_ADD`: Pop two values from the stack, add them, and push the result.
#     * `BINARY_MULTIPLY`: Pop two values, multiply, and push the result.
#     * `RETURN_VALUE`: Pop the top value and return it.
#
# * **Bytecode Structure (Simplified):**
#
# ```
# +--------+--------+
# | Opcode | Oparg  |
# +--------+--------+
#   (1 byte) (1 byte)
# ```

# ## 4. Example: `(x + 1) * y`
#
# Let's trace how Python would execute the expression `(x + 1) * y` using the stack.

# ### 4.1. Python Code

# In[1]:
def sample_function(x, y):
    return (x + 1) * y

# ### 4.2. Bytecode Disassembly

# In[2]:
import dis

dis.dis(sample_function)

# ### 4.3. Bytecode Explanation
#
# ```
#   2           0 LOAD_FAST                0 (x)
#               2 LOAD_CONST               1 (1)
#               4 BINARY_ADD
#               6 LOAD_FAST                1 (y)
#               8 BINARY_MULTIPLY
#              10 RETURN_VALUE
# ```
#
# * `LOAD_FAST 0 (x)`:  Push the value of the local variable `x` onto the stack. `0` refers to the index of the variable `x` in the local variables.
# * `LOAD_CONST 1 (1)`: Push the constant value `1` onto the stack. `1` is the index of the constant `1` in the constants tuple.
# * `BINARY_ADD`: Pop the top two values from the stack (which are `x` and `1`), add them, and push the result (`x + 1`) back onto the stack.
# * `LOAD_FAST 1 (y)`: Push the value of the local variable `y` onto the stack. `1` refers to the index of the variable `y` in the local variables.
# * `BINARY_MULTIPLY`: Pop the top two values (which are `x + 1` and `y`), multiply them, and push the result `(x + 1) * y` onto the stack.
# * `RETURN_VALUE`: Pop the top value from the stack (which is the result of the calculation) and return it.

# ### 4.4. Stack Diagram (Evolution)
#
# * Initially: `[]` (Empty Stack)
# * After `LOAD_FAST x`: `[x]`
# * After `LOAD_CONST 1`: `[x, 1]`
# * After `BINARY_ADD`: `[x + 1]`
# * After `LOAD_FAST y`: `[x + 1, y]`
# * After `BINARY_MULTIPLY`: `[(x + 1) * y]`
# * After `RETURN_VALUE`: `[]` (Returns `(x + 1) * y`)

# ## 5. Deeper Dive with `dis.Bytecode`

# In[3]:
import dis

for instr in dis.Bytecode(sample_function):
    print(instr)

# ## 6. Stack Effect Analysis

# In[4]:
import dis

depth = 0
max_depth = 0
for instr in dis.Bytecode(sample_function):
    effect = dis.stack_effect(instr.opcode, instr.arg)
    depth += effect
    max_depth = max(max_depth, depth)
    print(f"{instr.opname:<20} stack_effect={effect:+2} depth_now={depth:2}")
print(f"Maximum stack depth during execution: {max_depth}")

# ## 7. Why Understand Stack Machine Architecture?
#
# * **Performance Tuning:**
#     * Knowing how bytecode works helps you understand the cost of certain operations.
#     * You can sometimes optimize code by minimizing stack manipulations (though readability is usually more important).
# * **Debugging and Reverse Engineering:**
#     * If you're debugging at a low level or trying to understand compiled code, bytecode knowledge is essential.
# * **CPython Internals:**
#     * If you want to delve into how CPython works internally, you'll need to understand how it executes bytecode.

# ## 8. Optimization (Simple Examples)
#
# It's tricky to give *universally* applicable "optimizations" at the bytecode level in Python. The CPython interpreter does a reasonable job, and readability/maintainability are almost always more important. However, here are some *ideas* of things to consider (with strong caveats):
#
# * **Minimize Attribute/Global Lookups:** Accessing attributes (`obj.attr`) and global variables is relatively expensive. If you do it repeatedly in a loop, store the value in a local variable.
# * **Local Variables Are Fast:** Accessing local variables is very fast (`LOAD_FAST`).
# * **Function Call Overhead:** Function calls have overhead. In very tight loops, inlining code (if it doesn't hurt readability) *might* help.
# * **List Comprehensions/Generators:** Sometimes, you might choose one over the other based on bytecode. Generators can be more memory-efficient.
#
# **Important Caveat:**
#
# * **Readability is King:** In most Python programming, focus on writing clear, maintainable code. Bytecode optimization should only be considered in performance-critical sections *after profiling*.
# * **CPython Changes:** CPython's implementation can change, so bytecode behavior might vary slightly between versions.
# * **Premature Optimization:** "Premature optimization is the root of all evil (or at least most of it) in programming." - Donald Knuth

# ### 8.1. Example: Local vs. Global

# In[5]:
import dis
import time

GLOBAL_VAR = 10

def use_local():
    local_var = GLOBAL_VAR
    for _ in range(1000000):
        result = local_var * 2
    return result

def use_global():
    for _ in range(1000000):
        result = GLOBAL_VAR * 2
    return result

# Time them (very rough)
start = time.time()
use_local()
end = time.time()
print(f"use_local: {end - start:.4f} sec")

start = time.time()
use_global()
end = time.time()
print(f"use_global: {end - start:.4f} sec")

# Disassemble
print("\nuse_local disassembly:")
dis.dis(use_local)

print("\nuse_global disassembly:")
dis.dis(use_global)

# ### 8.2. Explanation: Local vs. Global
#
# You'll likely see that `use_local` is faster. This is because accessing `local_var` uses `LOAD_FAST`, while accessing `GLOBAL_VAR` uses `LOAD_GLOBAL`, which involves a dictionary lookup.
#
# **However, the difference is often small in practice, and you should prioritize readability.**

# ### 8.3. Example: List Comprehension vs. Loop

# In[6]:
import dis

def list_comp():
    return [x * 2 for x in range(10)]

def for_loop():
    result = []
    for x in range(10):
        result.append(x * 2)
    return result

print("list_comp disassembly:")
dis.dis(list_comp)

print("\nfor_loop disassembly:")
dis.dis(for_loop)

# ### 8.4. Explanation: List Comprehension vs. Loop
#
# List comprehensions are often slightly faster because some of the loop mechanics are handled more efficiently within the interpreter. Again, readability is often more important, especially for complex logic.

# ## 9. Conclusion
#
# Python's stack machine architecture is an important part of how Python code is executed. While you don't usually need to micro-optimize at the bytecode level, understanding it can give you insights into performance and the CPython interpreter. Always prioritize writing clear, maintainable Python code and only consider bytecode-level details when necessary and after careful profiling.